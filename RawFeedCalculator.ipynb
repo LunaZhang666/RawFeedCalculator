{
 "cells": [
  {
   "cell_type": "code",
   "execution_count": 1,
   "metadata": {},
   "outputs": [],
   "source": [
    "import pandas as pd\n",
    "import numpy as np"
   ]
  },
  {
   "cell_type": "code",
   "execution_count": null,
   "metadata": {},
   "outputs": [],
   "source": []
  },
  {
   "cell_type": "code",
   "execution_count": 2,
   "metadata": {
    "scrolled": true
   },
   "outputs": [
    {
     "data": {
      "text/html": [
       "<div>\n",
       "<style scoped>\n",
       "    .dataframe tbody tr th:only-of-type {\n",
       "        vertical-align: middle;\n",
       "    }\n",
       "\n",
       "    .dataframe tbody tr th {\n",
       "        vertical-align: top;\n",
       "    }\n",
       "\n",
       "    .dataframe thead th {\n",
       "        text-align: right;\n",
       "    }\n",
       "</style>\n",
       "<table border=\"1\" class=\"dataframe\">\n",
       "  <thead>\n",
       "    <tr style=\"text-align: right;\">\n",
       "      <th></th>\n",
       "      <th>Type_of_Bone</th>\n",
       "      <th>Bone_percentage</th>\n",
       "    </tr>\n",
       "  </thead>\n",
       "  <tbody>\n",
       "    <tr>\n",
       "      <th>0</th>\n",
       "      <td>Chicken Neck</td>\n",
       "      <td>0.75</td>\n",
       "    </tr>\n",
       "    <tr>\n",
       "      <th>1</th>\n",
       "      <td>Chicken Feet</td>\n",
       "      <td>0.60</td>\n",
       "    </tr>\n",
       "    <tr>\n",
       "      <th>2</th>\n",
       "      <td>Chicken Wing</td>\n",
       "      <td>0.46</td>\n",
       "    </tr>\n",
       "    <tr>\n",
       "      <th>3</th>\n",
       "      <td>Duck Neck</td>\n",
       "      <td>0.50</td>\n",
       "    </tr>\n",
       "    <tr>\n",
       "      <th>4</th>\n",
       "      <td>Duck Feet</td>\n",
       "      <td>0.60</td>\n",
       "    </tr>\n",
       "    <tr>\n",
       "      <th>5</th>\n",
       "      <td>Whole Quail</td>\n",
       "      <td>0.10</td>\n",
       "    </tr>\n",
       "    <tr>\n",
       "      <th>6</th>\n",
       "      <td>Cornish Hen</td>\n",
       "      <td>0.40</td>\n",
       "    </tr>\n",
       "    <tr>\n",
       "      <th>7</th>\n",
       "      <td>Rabbit Head</td>\n",
       "      <td>0.75</td>\n",
       "    </tr>\n",
       "    <tr>\n",
       "      <th>8</th>\n",
       "      <td>Rabbit front leg</td>\n",
       "      <td>0.15</td>\n",
       "    </tr>\n",
       "    <tr>\n",
       "      <th>9</th>\n",
       "      <td>Rabbit hind leg</td>\n",
       "      <td>0.14</td>\n",
       "    </tr>\n",
       "    <tr>\n",
       "      <th>10</th>\n",
       "      <td>Rabbit spine/back</td>\n",
       "      <td>0.15</td>\n",
       "    </tr>\n",
       "    <tr>\n",
       "      <th>11</th>\n",
       "      <td>Rabbit front quarter</td>\n",
       "      <td>0.23</td>\n",
       "    </tr>\n",
       "    <tr>\n",
       "      <th>12</th>\n",
       "      <td>Rabbit hindquarter</td>\n",
       "      <td>0.17</td>\n",
       "    </tr>\n",
       "  </tbody>\n",
       "</table>\n",
       "</div>"
      ],
      "text/plain": [
       "            Type_of_Bone  Bone_percentage\n",
       "0           Chicken Neck             0.75\n",
       "1           Chicken Feet             0.60\n",
       "2           Chicken Wing             0.46\n",
       "3              Duck Neck             0.50\n",
       "4              Duck Feet             0.60\n",
       "5            Whole Quail             0.10\n",
       "6            Cornish Hen             0.40\n",
       "7            Rabbit Head             0.75\n",
       "8       Rabbit front leg             0.15\n",
       "9        Rabbit hind leg             0.14\n",
       "10     Rabbit spine/back             0.15\n",
       "11  Rabbit front quarter             0.23\n",
       "12    Rabbit hindquarter             0.17"
      ]
     },
     "execution_count": 2,
     "metadata": {},
     "output_type": "execute_result"
    }
   ],
   "source": [
    "df_bone_content = pd.read_csv(\"Bone_Conetnt.csv\")\n",
    "df_bone_content"
   ]
  },
  {
   "cell_type": "code",
   "execution_count": 56,
   "metadata": {},
   "outputs": [],
   "source": [
    "# functions\n",
    "def calculate_meal_ratio(ingredients):\n",
    "    ratio = {}\n",
    "    total_weight = np.sum([items for key, items in ingredients.items()])\n",
    "    ratio['liver'] = ingredients['liver']/total_weight\n",
    "    ratio['other secreting organ'] = ingredients['other secreting organ']/total_weight\n",
    "    ratio['muscle organ'] = ingredients['muscle organ']/total_weight\n",
    "    meat_on_bone = 0\n",
    "    bone_weight = 0\n",
    "    for bone in ingredients.keys() - ['liver','other secreting organ','muscle organ','muscle meat']:\n",
    "        bone_on_bone = ingredients[bone]*\\\n",
    "                        (df_bone_content.loc[df_bone_content.Type_of_Bone.str.lower() == bone.lower(), 'Bone_percentage'].values[0])\n",
    "        bone_weight+=bone_on_bone\n",
    "        meat_on_bone+= ingredients[bone]-bone_on_bone\n",
    "    ratio['muscle meat'] = (ingredients['muscle meat']+meat_on_bone)/total_weight\n",
    "    ratio['bone'] = bone_weight/total_weight\n",
    "    ratio = pd.DataFrame.from_dict(ratio,orient='index', columns=['percent'])\n",
    "    return ratio\n",
    "\n",
    "puppy_barf_model = {'muscle meat':0.52,\n",
    "                    'muscle organ':0.08,\n",
    "                   'bone':0.15,\n",
    "                   'liver':0.07,\n",
    "                   'other secreting organ':0.07,\n",
    "                   'veggie':0.07,\n",
    "                   'nut':0.03,\n",
    "                   'fruit':0.01}\n",
    "\n",
    "adult_barf_model = {'muscle meat':0.61,\n",
    "                    'muscle organ':0.09,\n",
    "                   'bone':0.10,\n",
    "                   'liver':0.05,\n",
    "                   'other secreting organ':0.05,\n",
    "                   'veggie':0.07,\n",
    "                   'nut':0.02,\n",
    "                   'fruit':0.01}\n",
    "\n",
    "def calculate_meat_to_bone_ratio(meat_bone,model):\n",
    "    ratio = {}\n",
    "    total_weight = np.sum([items for key, items in meat_bone.items()])\n",
    "    meat_weight = meat_bone['muscle meat']\n",
    "    bone_weight = 0\n",
    "    for bone in meat_bone.keys() - ['muscle meat']:\n",
    "        bone_on_bone = meat_bone[bone]*\\\n",
    "                        (df_bone_content.loc[df_bone_content.Type_of_Bone.str.lower() == bone.lower(), 'Bone_percentage'].values[0])\n",
    "        bone_weight+=bone_on_bone\n",
    "        meat_weight+= meat_bone[bone]-bone_on_bone\n",
    "    ratio['muscle meat'] = meat_weight/total_weight\n",
    "    ratio['bone'] = bone_weight/total_weight\n",
    "    ratio = pd.DataFrame.from_dict(ratio,orient='index', columns=['relevant_ratio'])\n",
    "    ideal_total = model['muscle meat'] + model['bone']\n",
    "    ratio['ideal_relevant_ratio'] = [model['muscle meat']/ideal_total, model['bone']/ideal_total]\n",
    "    return ratio\n",
    "\n",
    "def calculate_organ_per_serving(serving, model):\n",
    "    ingredients = {}\n",
    "    ingredients['liver'] = serving * model['liver']\n",
    "    ingredients['other_organ'] = serving * model['other secreting organ']\n",
    "    ingredients['muscle_organ'] = serving * model['muscle organ']\n",
    "    return ingredients\n",
    "    \n",
    "def calculate_meatbone_per_serving(serving, model):\n",
    "    return serving * model['muscle meat'] + serving * model['bone']\n",
    "    \n",
    "def calculate_veggie_fruit_nut_per_serving(serving, model):\n",
    "    ingredients = {}\n",
    "    ingredients['veggie'] = serving * model['veggie']\n",
    "    ingredients['fruit'] = serving * model['fruit']\n",
    "    ingredients['nut'] = serving * model['nut']\n",
    "    return ingredients\n",
    "\n",
    "def meal_prep(daily_serving, n_days, model, bone_type):\n",
    "#     ingredients = {}\n",
    "    ratio = {}\n",
    "    total_weight = daily_serving * n_days\n",
    "    vfn_serving = calculate_veggie_fruit_nut_per_serving(total_weight, model)\n",
    "    organ_serving = calculate_organ_per_serving(total_weight, model)\n",
    "    \n",
    "    meatbone = calculate_meatbone_per_serving(total_weight, model)\n",
    "    meatbone_relevant = model['muscle meat'] + model['bone']\n",
    "    relevant_meat_percent = model['muscle meat']/meatbone_relevant\n",
    "    relevant_bone_percent = model['bone']/meatbone_relevant\n",
    "    bone = meatbone * relevant_bone_percent\n",
    "    meaty_bone = bone/df_bone_content.loc[df_bone_content.Type_of_Bone.str.lower() == bone_type.lower(), 'Bone_percentage'].values[0]\n",
    "    muscle_meat = meatbone-meaty_bone\n",
    "    \n",
    "    ingredients = dict(**vfn_serving, **organ_serving)\n",
    "    ingredients['muscle_meat'] = muscle_meat\n",
    "    ingredients[bone_type] = meaty_bone\n",
    "    \n",
    "    return ingredients\n",
    "\n",
    "def calculate_daily_serving(weight_kg, feed_weight_ratio, homemade_feed_ratio):\n",
    "    return weight_kg * 1000 * weight_ratio * homemade_raw_percentage"
   ]
  },
  {
   "cell_type": "code",
   "execution_count": null,
   "metadata": {},
   "outputs": [],
   "source": []
  },
  {
   "cell_type": "code",
   "execution_count": null,
   "metadata": {},
   "outputs": [],
   "source": []
  },
  {
   "cell_type": "code",
   "execution_count": null,
   "metadata": {},
   "outputs": [],
   "source": []
  },
  {
   "cell_type": "code",
   "execution_count": null,
   "metadata": {},
   "outputs": [],
   "source": []
  },
  {
   "cell_type": "code",
   "execution_count": 57,
   "metadata": {},
   "outputs": [
    {
     "name": "stdout",
     "output_type": "stream",
     "text": [
      "Daily serving: 84.0\n"
     ]
    }
   ],
   "source": [
    "daily_serving = calculate_daily_serving(weight_kg=8, \n",
    "                                        feed_weight_ratio=0.035, \n",
    "                                        homemade_feed_ratio=0.03)\n",
    "print(\"Daily serving:\", daily_serving)"
   ]
  },
  {
   "cell_type": "code",
   "execution_count": 54,
   "metadata": {},
   "outputs": [
    {
     "data": {
      "text/plain": [
       "{'veggie': 5.880000000000001,\n",
       " 'fruit': 0.84,\n",
       " 'nut': 2.52,\n",
       " 'liver': 5.880000000000001,\n",
       " 'other_organ': 5.880000000000001,\n",
       " 'muscle_organ': 6.72,\n",
       " 'muscle_meat': 39.480000000000004,\n",
       " 'chicken neck': 16.8}"
      ]
     },
     "execution_count": 54,
     "metadata": {},
     "output_type": "execute_result"
    }
   ],
   "source": [
    "meal_prep(daily_serving, 1, puppy_barf_model, 'chicken neck')"
   ]
  },
  {
   "cell_type": "code",
   "execution_count": null,
   "metadata": {},
   "outputs": [],
   "source": []
  }
 ],
 "metadata": {
  "kernelspec": {
   "display_name": "Python 3",
   "language": "python",
   "name": "python3"
  },
  "language_info": {
   "codemirror_mode": {
    "name": "ipython",
    "version": 3
   },
   "file_extension": ".py",
   "mimetype": "text/x-python",
   "name": "python",
   "nbconvert_exporter": "python",
   "pygments_lexer": "ipython3",
   "version": "3.7.2"
  }
 },
 "nbformat": 4,
 "nbformat_minor": 2
}
